{
  "nbformat": 4,
  "nbformat_minor": 0,
  "metadata": {
    "colab": {
      "name": "color selection.ipynb",
      "provenance": [],
      "collapsed_sections": [],
      "authorship_tag": "ABX9TyMXGHPsqEh28s1YVMme0DUw",
      "include_colab_link": true
    },
    "kernelspec": {
      "name": "python3",
      "display_name": "Python 3"
    },
    "language_info": {
      "name": "python"
    }
  },
  "cells": [
    {
      "cell_type": "markdown",
      "metadata": {
        "id": "view-in-github",
        "colab_type": "text"
      },
      "source": [
        "<a href=\"https://colab.research.google.com/github/SampathGanesh01/UDACITY_SDC/blob/main/color_selection.ipynb\" target=\"_parent\"><img src=\"https://colab.research.google.com/assets/colab-badge.svg\" alt=\"Open In Colab\"/></a>"
      ]
    },
    {
      "cell_type": "code",
      "source": [
        "from google.colab import drive\n",
        "drive.mount('/content/gdrive')"
      ],
      "metadata": {
        "colab": {
          "base_uri": "https://localhost:8080/"
        },
        "id": "dQeP4fpGMqVR",
        "outputId": "40f975b4-74d6-411d-a783-2c10798ac1db"
      },
      "execution_count": null,
      "outputs": [
        {
          "output_type": "stream",
          "name": "stdout",
          "text": [
            "Mounted at /content/gdrive\n"
          ]
        }
      ]
    },
    {
      "cell_type": "code",
      "execution_count": null,
      "metadata": {
        "id": "I0vL60dHLWuJ"
      },
      "outputs": [],
      "source": [
        "import matplotlib.pyplot as plt\n",
        "import matplotlib.image as mpimg\n",
        "import numpy as np"
      ]
    },
    {
      "cell_type": "code",
      "source": [
        "image = mpimg.imread(\"/content/gdrive/MyDrive/IMAGES_FOR_CODING/1.jpg\")\n",
        "print('This image is: ',type(image), \n",
        "         'with dimensions:', image.shape)\n",
        "\n",
        "# Grab the x and y size and make a copy of the image\n",
        "ysize = image.shape[0]\n",
        "xsize = image.shape[1]\n",
        "# Note: always make a copy rather than simply using \"=\"\n",
        "color_select = np.copy(image)\n"
      ],
      "metadata": {
        "colab": {
          "base_uri": "https://localhost:8080/"
        },
        "id": "yeffUYOMMnSe",
        "outputId": "77860977-ca9f-49c4-f944-164e86848369"
      },
      "execution_count": null,
      "outputs": [
        {
          "output_type": "stream",
          "name": "stdout",
          "text": [
            "This image is:  <class 'numpy.ndarray'> with dimensions: (540, 960, 3)\n"
          ]
        }
      ]
    },
    {
      "cell_type": "code",
      "source": [
        "red_threshold = 0\n",
        "green_threshold = 0\n",
        "blue_threshold = 0\n",
        "rgb_threshold = [red_threshold, green_threshold, blue_threshold]"
      ],
      "metadata": {
        "id": "4I4_lbr-PDxq"
      },
      "execution_count": null,
      "outputs": []
    },
    {
      "cell_type": "code",
      "source": [
        ""
      ],
      "metadata": {
        "id": "KEnj5_KNR7O3"
      },
      "execution_count": null,
      "outputs": []
    }
  ]
}